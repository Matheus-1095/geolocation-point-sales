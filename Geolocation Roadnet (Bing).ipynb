{
 "cells": [
  {
   "cell_type": "code",
   "execution_count": null,
   "metadata": {},
   "outputs": [],
   "source": [
    "#Importing library for the Geolocation processing\n",
    "import pandas as pd\n",
    "import geocoder\n",
    "from geopy.geocoders import Nominatim\n",
    "from geopy.geocoders import GoogleV3\n",
    "from geopy.exc import GeocoderTimedOut"
   ]
  },
  {
   "cell_type": "code",
   "execution_count": null,
   "metadata": {},
   "outputs": [],
   "source": [
    "#Importing the .xlsx file with all Pernambuco adresses\n",
    "df = pd.read_excel(\"C:/Users/matheus.bulhoes/Desktop/Histórico de Cliente/Report Final/Report Histórico de Clientes.xlsx\")"
   ]
  },
  {
   "cell_type": "code",
   "execution_count": null,
   "metadata": {},
   "outputs": [],
   "source": [
    "#Creating a new column and assigning 3 columns for next geolocation searching\n",
    "df[\"Endereco_Bairro\"] = df[['Endereço', 'Cidade', 'CEP']].astype(str).agg(' - '.join, axis=1)"
   ]
  },
  {
   "cell_type": "code",
   "execution_count": null,
   "metadata": {
    "scrolled": false
   },
   "outputs": [],
   "source": [
    "df.head(1)"
   ]
  },
  {
   "cell_type": "code",
   "execution_count": null,
   "metadata": {
    "scrolled": true
   },
   "outputs": [],
   "source": [
    "#Now, creating an array and for loop in the column Endereco_ Bairro, searching each address from Bing API\n",
    "#If the result search is None, the result is 0. Else, try return the Latitude and Longitude.\n",
    "geoaddress2 = []\n",
    "for address in df[\"Endereco_Bairro\"]:\n",
    "    g = geocoder.bing(address, key='Ar94_x_FJ8IEKgFmnSBC1yLakezVyQho2n_KBo2eGQZ37PSlccz7ykByj7YFy01q')\n",
    "    if g is None:\n",
    "        geoaddress2.append(\"0\")\n",
    "    else:\n",
    "        try:\n",
    "            geoaddress2.append((g.latlng))\n",
    "        except GeocoderTimedOut as e:\n",
    "            geoaddress2.append((\"Error: geocode failed\"))"
   ]
  },
  {
   "cell_type": "code",
   "execution_count": null,
   "metadata": {
    "scrolled": true
   },
   "outputs": [],
   "source": [
    "#The result addresses now is assigning to the new column\n",
    "df[\"Coordenadas\"] = geoaddress2"
   ]
  },
  {
   "cell_type": "code",
   "execution_count": null,
   "metadata": {
    "scrolled": true
   },
   "outputs": [],
   "source": [
    "#The results now is export to a new .xlsx file\n",
    "df.to_excel(\"Roadnet Bing.xlsx\")"
   ]
  }
 ],
 "metadata": {
  "kernelspec": {
   "display_name": "Python 3",
   "language": "python",
   "name": "python3"
  },
  "language_info": {
   "codemirror_mode": {
    "name": "ipython",
    "version": 3
   },
   "file_extension": ".py",
   "mimetype": "text/x-python",
   "name": "python",
   "nbconvert_exporter": "python",
   "pygments_lexer": "ipython3",
   "version": "3.8.3"
  }
 },
 "nbformat": 4,
 "nbformat_minor": 4
}
